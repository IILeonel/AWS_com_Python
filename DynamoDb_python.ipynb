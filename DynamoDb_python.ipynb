{
  "nbformat": 4,
  "nbformat_minor": 0,
  "metadata": {
    "colab": {
      "name": "DynamoDb_python.ipynb",
      "provenance": []
    },
    "kernelspec": {
      "name": "python3",
      "display_name": "Python 3"
    },
    "language_info": {
      "name": "python"
    }
  },
  "cells": [
    {
      "cell_type": "markdown",
      "metadata": {
        "id": "OKQ5ZIyg9yld"
      },
      "source": [
        "DynamoDb\n",
        "---\n",
        "O Amazon DynamoDB é um banco de dados de\n",
        "valores-chave e documentos que oferece\n",
        "desempenho em milissegundos de um dígito em\n",
        "qualquer escala.\n",
        "\n",
        "Documentacao: https://boto3.amazonaws.com/v1/documentation/api/latest/reference/services/dynamodb.html"
      ]
    },
    {
      "cell_type": "code",
      "metadata": {
        "id": "tj1rIktQSPTK"
      },
      "source": [
        "#CASO ESTEJA NO COLAB, É IMPORTANTE INSTALAR O BOTO3\n",
        "!pip install boto3"
      ],
      "execution_count": null,
      "outputs": []
    },
    {
      "cell_type": "code",
      "metadata": {
        "id": "evzjJOEpUqG4"
      },
      "source": [
        "import boto3"
      ],
      "execution_count": null,
      "outputs": []
    },
    {
      "cell_type": "markdown",
      "metadata": {
        "id": "F_f9iZhZ_0nx"
      },
      "source": [
        "Para isso é necessario criar uma conexão com o serviço AWS. Precisamos autenticar utilizando 3 parametros:\n",
        "\n",
        "1- aws_secret_access_key\n",
        "\n",
        "2- aws_secret_key_id\n",
        "\n",
        "3- aws_session_token\n",
        "\n",
        "Esses parametros mudam todos os dias, precisamos atualizar sempre. Para acessar basta ir na AWS Account>Account Details>AWS CLI\n",
        "\n",
        "https://labs.vocareum.com/main/main.php?m=editor&nav=1&asnid=14334&stepid=14335\n",
        "\n",
        "Documentacao: https://boto3.amazonaws.com/v1/documentation/api/latest/index.html"
      ]
    },
    {
      "cell_type": "code",
      "metadata": {
        "id": "T030hd6-_1B1"
      },
      "source": [
        "#OS DADOS ABAIXO MUDAM TODOS OS DIAS A CADA 2 HORAS\n",
        "access ='teste_aws_access_key_id'\n",
        "secret ='teste_aws_secret_access_key'\n",
        "session ='teste_aws_session_token'"
      ],
      "execution_count": null,
      "outputs": []
    },
    {
      "cell_type": "code",
      "metadata": {
        "id": "y1DL1YfQ_n5o"
      },
      "source": [
        "#Quando passamos dois asteriscos na chamada de\n",
        "#uma função, estamos indicando que os parametros estão dentro de um dicionario:\n",
        "def multiplica(x,y):\n",
        "    print(x*y)\n",
        "\n",
        "multiplica(3,2)\n",
        "# ou\n",
        "param = {'y':3,'x':2}\n",
        "multiplica(**param) "
      ],
      "execution_count": null,
      "outputs": []
    },
    {
      "cell_type": "markdown",
      "metadata": {
        "id": "nNuUXKa_UwHh"
      },
      "source": [
        "Agora vamos criar um recurso do DynamoDb. Através desse recurso, poderemos criar, ler, manipular as tabelas do DynamoDB"
      ]
    },
    {
      "cell_type": "code",
      "metadata": {
        "id": "Of9u_gL2Uy02"
      },
      "source": [
        "dynamodb = boto3.resource('dynamodb', aws_access_key_id= access,\n",
        "                        aws_secret_access_key= secret,\n",
        "                        aws_session_token= session\n",
        "                       ,region_name = \"us-east-1\", use_ssl=False)"
      ],
      "execution_count": null,
      "outputs": []
    },
    {
      "cell_type": "markdown",
      "metadata": {
        "id": "QdKnh3KFAMN3"
      },
      "source": [
        "Agora vamos criar uma tabela passando os parametros em formar de dicionario, como funciona o DynamoDB"
      ]
    },
    {
      "cell_type": "code",
      "metadata": {
        "id": "tQ84MY9PAL1L"
      },
      "source": [
        "table_name = 'pet_20200415' #Nome da tabela\n",
        "#Parametros de criação\n",
        "params = {\n",
        "        'TableName': table_name, #nome da tabela\n",
        "        #Esquema das chaves\n",
        "        'KeySchema': [\n",
        "            {'AttributeName': 'id', 'KeyType': 'HASH'}, # hash será a chave primaria\n",
        "            {'AttributeName': 'nome', 'KeyType': 'RANGE'} #range, não obrigatória, formaria uma chave composta\n",
        "        ],\n",
        "        #Tipo de dados da chave\n",
        "        'AttributeDefinitions': [ \n",
        "            {'AttributeName': 'id', 'AttributeType': 'N'}, #N de number\n",
        "            {'AttributeName': 'nome', 'AttributeType': 'S'} #S de string\n",
        "        ],\n",
        "        #Configuração de escrita e leitura por segundo\n",
        "        'ProvisionedThroughput': {\n",
        "            'ReadCapacityUnits': 3,\n",
        "            'WriteCapacityUnits': 3\n",
        "        }\n",
        "    }\n",
        "    "
      ],
      "execution_count": null,
      "outputs": []
    },
    {
      "cell_type": "markdown",
      "metadata": {
        "id": "wUYN4eM1CE3J"
      },
      "source": [
        "Após criarmos os parametros para a nossa tabela, vamos passar para o create_table, para que a nossa tabela seja finalmente criada no DynamoDb"
      ]
    },
    {
      "cell_type": "code",
      "metadata": {
        "id": "b-o3MY-4CDHH"
      },
      "source": [
        "dynamodb.create_table(**params)"
      ],
      "execution_count": null,
      "outputs": []
    },
    {
      "cell_type": "markdown",
      "metadata": {
        "id": "fjJioUSACteK"
      },
      "source": [
        "Abaixo, vamos fazer alguns insert na nossa nova tabela no DynamoDB"
      ]
    },
    {
      "cell_type": "code",
      "metadata": {
        "id": "pur7TH3oBqm0"
      },
      "source": [
        "table = dynamodb.Table(\"pet_20200415\")\n",
        "table.put_item(\n",
        "   Item={\"id\":1,\n",
        "        'nome': 'Jane',\n",
        "        'tipo': 'cachorro',\n",
        "        'raça': 'vira lata'\n",
        "    })\n",
        "table.put_item(\n",
        "   Item={\"id\":2,\n",
        "        'nome': 'Larry',\n",
        "        'tipo': 'lagarto',\n",
        "        'escama': 'lisa',\n",
        "         'chifre':'frontal'\n",
        "    })\n",
        "table.put_item(\n",
        "   Item={\"id\":3,\n",
        "        'nome': 'Marcel',\n",
        "        'tipo': 'macaco',\n",
        "        'especie': 'mandril',\n",
        "         'cor':['verde oliva','cinza']\n",
        "        })"
      ],
      "execution_count": null,
      "outputs": []
    },
    {
      "cell_type": "markdown",
      "metadata": {
        "id": "28IMPLevFyHt"
      },
      "source": [
        "Vamos criar mais uma tabela passando os parametros em formar de dicionario, como funciona o DynamoDB"
      ]
    },
    {
      "cell_type": "code",
      "metadata": {
        "id": "l0KprrnEFxZH"
      },
      "source": [
        "table_name = 'amigo_20200415' #Nome da tabela\n",
        "#Parametros de criação\n",
        "params = {\n",
        "        'TableName': table_name, #nome da tabela\n",
        "        #Esquema das chaves\n",
        "        'KeySchema': [\n",
        "            {'AttributeName': 'id', 'KeyType': 'HASH'}, # hash será a chave primaria\n",
        "           \n",
        "        ],\n",
        "        #Tipo de dados da chave\n",
        "        'AttributeDefinitions': [ \n",
        "            {'AttributeName': 'id', 'AttributeType': 'S'}, #String\n",
        "        \n",
        "        ],\n",
        "        #Configuração de escrita e leitura por segundo\n",
        "        'ProvisionedThroughput': {\n",
        "            'ReadCapacityUnits': 3,\n",
        "            'WriteCapacityUnits': 3\n",
        "        }\n",
        "    }\n",
        "    "
      ],
      "execution_count": null,
      "outputs": []
    },
    {
      "cell_type": "code",
      "metadata": {
        "id": "ySXjzJMZGK_9"
      },
      "source": [
        "dynamodb.create_table(**params)"
      ],
      "execution_count": null,
      "outputs": []
    },
    {
      "cell_type": "markdown",
      "metadata": {
        "id": "CA-D8vT_s9q7"
      },
      "source": [
        "Imagine que temos varios a nossa API baixada na nossa maquina e nela existem varios amigos para serem inseridos, mas nao consgeuimos subir um por um, seria muito trabalhaso, então, vamos fazer deste modo.\n",
        "\n",
        "Vamo utilizar a biblioteca uuid que tem o mesmo objetivo do identity no SQL, ou seja, ela vai criar um ID unico"
      ]
    },
    {
      "cell_type": "code",
      "metadata": {
        "id": "hu7cIAPIsUWg"
      },
      "source": [
        "import json, uuid\n",
        "\n",
        "j = open(\"amigos.json\")\n",
        "amigos = json.load(j)\n",
        "for amigo in amigos:\n",
        "  id = uuid.uuid1()\n",
        "  amigo[\"id\"] = str(id)\n",
        "  print(amigo)\n",
        "\n",
        "#agora de fato vamos inserir na nossa tabela:\n",
        "  table.put_item(Item = amigo)"
      ],
      "execution_count": null,
      "outputs": []
    }
  ]
}