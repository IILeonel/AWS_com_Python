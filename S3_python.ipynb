{
  "nbformat": 4,
  "nbformat_minor": 0,
  "metadata": {
    "colab": {
      "name": "S3_python.ipynb",
      "provenance": []
    },
    "kernelspec": {
      "name": "python3",
      "display_name": "Python 3"
    },
    "language_info": {
      "name": "python"
    }
  },
  "cells": [
    {
      "cell_type": "markdown",
      "metadata": {
        "id": "b291u8jEpZI_"
      },
      "source": [
        "# **S3, Bucket, Resoucer**\n",
        "---\n",
        "Boto3 é um SDK da AWS para desenvolvimento em python. SDK (software developer kit) trata-se um conjunto de ferramentas e programas utilizados por desenvolvedores como base para construir algo de acordo com a sua necessidade. Documentação: https://boto3.amazonaws.com/v1/documentation/api/latest/index.html"
      ]
    },
    {
      "cell_type": "code",
      "metadata": {
        "id": "ZQU2d899pOKy"
      },
      "source": [
        "#CASO ESTEJA NO COLAB, É IMPORTANTE INSTALAR O BOTO3\n",
        "%%sh\n",
        "pip install boto3"
      ],
      "execution_count": null,
      "outputs": []
    },
    {
      "cell_type": "markdown",
      "metadata": {
        "id": "fS5SIATvqTeG"
      },
      "source": [
        "Vamos importar a biblioteca boto3 e a biblioteca pandas para poder conectar e ler arquivos no que estão armazenados no S3 na AWS."
      ]
    },
    {
      "cell_type": "code",
      "metadata": {
        "id": "JgAhBwrLqMtE"
      },
      "source": [
        "import boto3, pandas as pd"
      ],
      "execution_count": null,
      "outputs": []
    },
    {
      "cell_type": "markdown",
      "metadata": {
        "id": "y_oGKej7qZkb"
      },
      "source": [
        "Para isso é necessario criar uma conexão com o serviço AWS. Precisamos autenticar utilizando 3 parametros:\n",
        "\n",
        "1- aws_secret_access_key\n",
        "\n",
        "2- aws_secret_key_id\n",
        "\n",
        "3- aws_session_token\n",
        "\n",
        "Esses parametros mudam todos os dias, precisamos atualizar sempre. Para acessar basta ir na AWS Account>Account Details>AWS CLI\n",
        "\n",
        "https://labs.vocareum.com/main/main.php?m=editor&nav=1&asnid=14334&stepid=14335\n",
        "\n",
        "Documentacao: https://boto3.amazonaws.com/v1/documentation/api/latest/index.html"
      ]
    },
    {
      "cell_type": "code",
      "metadata": {
        "id": "YXk5TGFDqavP"
      },
      "source": [
        "#OS DADOS ABAIXO MUDAM TODOS OS DIAS  A CADA 2 HORAS\n",
        "access ='teste_aws_access_key_id'\n",
        "secret ='teste_aws_secret_access_key'\n",
        "session ='teste_aws_session_token'"
      ],
      "execution_count": null,
      "outputs": []
    },
    {
      "cell_type": "code",
      "metadata": {
        "id": "199FDcZ6q2Hb"
      },
      "source": [
        "servico = 's3'\n",
        "client = boto3.client(servico,\n",
        "                      aws_access_key_id = access\n",
        "                      aws_secret_access_key= secret\n",
        "                      aws_session_token= session\n",
        "                      )\n",
        "client.list_buckets()"
      ],
      "execution_count": null,
      "outputs": []
    },
    {
      "cell_type": "markdown",
      "metadata": {
        "id": "0Hsy2JUUrEju"
      },
      "source": [
        "Nos comandos abaixo estamos criando um client (cliente) e um resource (recurso).\n",
        " O client é utilizado para algumas funções mais simples, como criar buckets, listar buckets, listar dados, etc.\n",
        "  O Resource é utilizado para enviar arquivos, ler arquivos, baixar arquivos, etc.\n"
      ]
    },
    {
      "cell_type": "code",
      "metadata": {
        "id": "wmdQUZdlrLHD"
      },
      "source": [
        "#Client - boto3.client(recurso do AWS, Autenticação)\n",
        "client_s3 = boto3.client('s3', aws_access_key_id= access\n",
        "                      aws_secret_access_key= secret\n",
        "                      aws_session_token= session, use_ssl=False)\n",
        "\n",
        "#Resource boto3.resource(recurso do AWS, Autenticação)\n",
        "resource_s3 = boto3.resource('s3', aws_access_key_id= access\n",
        "                      aws_secret_access_key= secret\n",
        "                      aws_session_token= token, use_ssl=False)"
      ],
      "execution_count": null,
      "outputs": []
    },
    {
      "cell_type": "markdown",
      "metadata": {
        "id": "DHlkRokPrvs9"
      },
      "source": [
        "Agora sim, vamos criar um bucket utilizando o python"
      ]
    },
    {
      "cell_type": "code",
      "metadata": {
        "id": "Av4tBZNFrXhc"
      },
      "source": [
        "#Criando um bucket pelo Python\n",
        "client_s3.create_bucket(Bucket='teste-2021')"
      ],
      "execution_count": null,
      "outputs": []
    },
    {
      "cell_type": "code",
      "metadata": {
        "id": "aBxlLQoPsOzN"
      },
      "source": [
        "#Utilizando resource. Vamos \"trazer\" o novo bucket para o nosso ambiente de desenvolvimento\n",
        "bucket = resource_s3.Bucket('teste-2021')"
      ],
      "execution_count": null,
      "outputs": []
    },
    {
      "cell_type": "code",
      "metadata": {
        "id": "KJwiaUvdsa-f"
      },
      "source": [
        "#Download para maquina \n",
        "bucket.download_file(Key = 'brasil/sao_paulo/cities.csv',Filename='sample_data/cidade_sp.csv')"
      ],
      "execution_count": null,
      "outputs": []
    }
  ]
}